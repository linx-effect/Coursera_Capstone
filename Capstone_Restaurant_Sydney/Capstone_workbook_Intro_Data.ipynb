{
 "cells": [
  {
   "cell_type": "markdown",
   "metadata": {},
   "source": [
    "# Segmenting Suburbs of Sydney - Restaurants"
   ]
  },
  {
   "cell_type": "markdown",
   "metadata": {},
   "source": [
    "## 1. Introduction/Business Problem\n",
    "\n",
    "As an employee at a consulting firm that specialised in data analytics in Sydney CBD, you have been assigned to work on a new project. The project involves a new client who is looking to open a new mid-high tier Spanish retaurant in Sydney but is unsure where may be the best location to cater to his food-loving customers. He hopes to capture a subset of population that is fairly affluent and thus have more discretionary income to spend to enjoy great food and drink. \n",
    "\n",
    "Sydney has been growing at a tremendous pace over the past several years, thanks to its strong attraction to foreign travellers, students and workers. It would be difficult to travel around and do actual site seeing and in-depth surveys in person without a place to start. You decide to help the client to gain insights to potential candidate suburbs through the use of data science techniques and aim to provide a preliminary recommendation to him using public and web-scraped data."
   ]
  },
  {
   "cell_type": "markdown",
   "metadata": {},
   "source": [
    "## 2. Data Source\n",
    "\n",
    "According to Google, the key variables to successfully select a location for restaurants include: Visibility, Parking, Crime Rates, Traffic flow, Surrounding Business/Competitor analysis, Affordability etc. We will aim to cover off some of these factors in the limited timeframe we are given.\n",
    "\n",
    "Data sources used in this project include:\n",
    "\n",
    "1. ABS Census 2016 Data - Public dataset collected through household surveys on demographic information such as median age, income, rent, proportion of population based on education, sex, etc. These data are being provided at different granular level, we will be working with the SSC level (suburbs) within Sydney region. (https://datapacks.censusdata.abs.gov.au/datapacks/)\n",
    "\n",
    "\n",
    "2. Webscraped Data from Wikipedia - it allowed us to obtain list of suburbs within Sydney using Wikipedia data. (https://en.wikipedia.org/wiki/List_of_Sydney_suburbs)\n",
    "\n",
    "\n",
    "3. Geocoder/Geopy library (Python)- it allows user to retrieve the geospatial coordinates on each suburb given (gives both latitudes and longitudes).\n",
    "\n",
    "\n",
    "4. Foursquare Developer Access to venue data (https://foursquare.com/). It is an API which allows user to explore venues near a given set of coordinates and show their frequcies, names, feedback from internet users etc. This data source is used to cluster together similar groups of suburbs based on their venue compositions. \n",
    "\n",
    "\n",
    "5. Geospatial data on NSW/Sydney suburbs based on geographical coordinates. (https://data.gov.au/dataset/ds-dga-91e70237-d9d1-4719-a82f-e71b811154c6/details)"
   ]
  },
  {
   "cell_type": "code",
   "execution_count": null,
   "metadata": {},
   "outputs": [],
   "source": []
  }
 ],
 "metadata": {
  "kernelspec": {
   "display_name": "Python 3",
   "language": "python",
   "name": "python3"
  },
  "language_info": {
   "codemirror_mode": {
    "name": "ipython",
    "version": 3
   },
   "file_extension": ".py",
   "mimetype": "text/x-python",
   "name": "python",
   "nbconvert_exporter": "python",
   "pygments_lexer": "ipython3",
   "version": "3.7.6"
  }
 },
 "nbformat": 4,
 "nbformat_minor": 4
}
